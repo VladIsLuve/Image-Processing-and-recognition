{
 "cells": [
  {
   "cell_type": "code",
   "execution_count": 401,
   "metadata": {},
   "outputs": [
    {
     "data": {
      "application/vnd.jupyter.widget-view+json": {
       "model_id": "78a6a3c217694d9fbbe3ab68f48e76a5",
       "version_major": 2,
       "version_minor": 0
      },
      "text/plain": [
       "FileChooser(path='C:\\Users\\Vladislav\\Documents\\Processing and recognition of images', filename='', title='', s…"
      ]
     },
     "metadata": {},
     "output_type": "display_data"
    }
   ],
   "source": [
    "import numpy as np\n",
    "import cv2\n",
    "import matplotlib.pyplot as plt\n",
    "\n",
    "plt.rcParams[\"figure.figsize\"] = (10,10)\n",
    "\n",
    "from ipyfilechooser import FileChooser\n",
    "\n",
    "#Путь не должен содержать кириллицу!\n",
    "fc = FileChooser()\n",
    "display(fc)"
   ]
  },
  {
   "cell_type": "code",
   "execution_count": 402,
   "metadata": {},
   "outputs": [],
   "source": [
    "#Считывание изображения\n",
    "img = cv2.imread(fc.selected, cv2.IMREAD_COLOR)\n",
    "h = len(img)\n",
    "w = len(img[0])"
   ]
  },
  {
   "cell_type": "code",
   "execution_count": 403,
   "metadata": {},
   "outputs": [],
   "source": [
    "#Перевод изображения в пространство HSV\n",
    "hsv = cv2.cvtColor(img, cv2.COLOR_RGB2HSV)\n",
    "#plt.imshow(hsv[:,:,2], cmap = \"gray\")"
   ]
  },
  {
   "cell_type": "code",
   "execution_count": 404,
   "metadata": {},
   "outputs": [],
   "source": [
    "#Сглаживание медианным фильтром\n",
    "ker_sz = 7\n",
    "blurred = cv2.medianBlur(hsv, ker_sz)\n",
    "#plt.imshow(blurred[:,:,2], cmap = \"gray\")"
   ]
  },
  {
   "cell_type": "code",
   "execution_count": 405,
   "metadata": {},
   "outputs": [],
   "source": [
    "#Определение границ карточек\n",
    "th3 = cv2.adaptiveThreshold(blurred[:, :, 2], 255, cv2.ADAPTIVE_THRESH_GAUSSIAN_C,\\\n",
    "            cv2.THRESH_BINARY_INV, ker_sz, ker_sz)\n",
    "#plt.imshow(th3, cmap = \"gray\")"
   ]
  },
  {
   "cell_type": "code",
   "execution_count": 406,
   "metadata": {},
   "outputs": [],
   "source": [
    "#Определение границ карточек и фигур\n",
    "th4 = cv2.adaptiveThreshold(hsv[:, :, 2], 255, cv2.ADAPTIVE_THRESH_GAUSSIAN_C,\\\n",
    "            cv2.THRESH_BINARY_INV, ker_sz, ker_sz)\n",
    "#plt.imshow(th4, cmap = \"gray\")"
   ]
  },
  {
   "cell_type": "code",
   "execution_count": 407,
   "metadata": {},
   "outputs": [],
   "source": [
    "#Дилатация границ карточек\n",
    "kernel = np.ones([6, 6], np.uint8)\n",
    "dil = cv2.dilate(th3, kernel)\n",
    "#plt.imshow(dil, cmap = \"gray\")"
   ]
  },
  {
   "cell_type": "code",
   "execution_count": 408,
   "metadata": {},
   "outputs": [],
   "source": [
    "#Удаление границ фигур с помощью конъюнкции\n",
    "res = cv2.bitwise_and(th4, 255 - dil)\n",
    "#plt.imshow(res, cmap = \"gray\")"
   ]
  },
  {
   "cell_type": "code",
   "execution_count": 409,
   "metadata": {
    "scrolled": false
   },
   "outputs": [],
   "source": [
    "#Дилатация полученного результата\n",
    "k = np.ones([3, 3], np.uint8)\n",
    "\n",
    "rd = cv2.dilate(res, k)\n",
    "\n",
    "#Кластеризация полученных точек\n",
    "connectivity = 4\n",
    "output = cv2.connectedComponentsWithStats(rd, connectivity, cv2.CV_32S)\n",
    "labels = output[1]\n",
    "stats = output[2]\n",
    "\n",
    "#Порог для отсева кластеров по площади\n",
    "AREA_TH = h*w/1000\n",
    "\n",
    "for i in range(len(stats)):\n",
    "    area = stats[i, cv2.CC_STAT_AREA]\n",
    "    if (area < AREA_TH):\n",
    "        rd[np.where(labels == i)] = 0\n",
    "\n",
    "#plt.imshow(rd, cmap = \"gray\")"
   ]
  },
  {
   "cell_type": "code",
   "execution_count": 410,
   "metadata": {},
   "outputs": [],
   "source": [
    "contours, hierarchy = cv2.findContours(rd, cv2.RETR_EXTERNAL, cv2.CHAIN_APPROX_SIMPLE)\n",
    "result = cv2.cvtColor(img.copy(), cv2.COLOR_BGR2RGB)\n",
    "#cv2.drawContours(result, contours, -1, (255,0,0), 2, cv2.LINE_AA, hierarchy, 1 )\n",
    "for i in range(len(contours)):\n",
    "    M = cv2.moments(contours[i])\n",
    "    cX = int(M[\"m10\"] / M[\"m00\"])\n",
    "    cY = int(M[\"m01\"] / M[\"m00\"])\n",
    "    cv2.putText(result, \"No. \" + str(i+1), (cX - 20, cY - 20), cv2.FONT_HERSHEY_SIMPLEX, 0.7, (255,255,0), 2)\n",
    "#plt.imshow(result) "
   ]
  },
  {
   "cell_type": "code",
   "execution_count": 412,
   "metadata": {},
   "outputs": [
    {
     "data": {
      "application/vnd.jupyter.widget-view+json": {
       "model_id": "fa834821349a4d5a80c6d9f9fe01af8e",
       "version_major": 2,
       "version_minor": 0
      },
      "text/plain": [
       "FileChooser(path='C:\\Users\\Vladislav\\Documents\\Processing and recognition of images', filename='', title='', s…"
      ]
     },
     "metadata": {},
     "output_type": "display_data"
    }
   ],
   "source": [
    "#Выбор директории для вывода файла\n",
    "fc_out = FileChooser()\n",
    "display(fc_out)"
   ]
  },
  {
   "cell_type": "code",
   "execution_count": 417,
   "metadata": {},
   "outputs": [
    {
     "data": {
      "text/plain": [
       "True"
      ]
     },
     "execution_count": 417,
     "metadata": {},
     "output_type": "execute_result"
    }
   ],
   "source": [
    "cv2.imwrite(fc_out.selected+\"result.jpg\", cv2.cvtColor(result, cv2.COLOR_BGR2RGB))"
   ]
  },
  {
   "cell_type": "code",
   "execution_count": null,
   "metadata": {},
   "outputs": [],
   "source": []
  }
 ],
 "metadata": {
  "kernelspec": {
   "display_name": "Python 3",
   "language": "python",
   "name": "python3"
  },
  "language_info": {
   "codemirror_mode": {
    "name": "ipython",
    "version": 3
   },
   "file_extension": ".py",
   "mimetype": "text/x-python",
   "name": "python",
   "nbconvert_exporter": "python",
   "pygments_lexer": "ipython3",
   "version": "3.8.5"
  }
 },
 "nbformat": 4,
 "nbformat_minor": 5
}
